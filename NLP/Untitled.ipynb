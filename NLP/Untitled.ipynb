{
 "cells": [
  {
   "cell_type": "code",
   "execution_count": 1,
   "id": "747077a7-654c-4609-82c1-8e1b7b46e581",
   "metadata": {},
   "outputs": [],
   "source": [
    "import numpy as np\n",
    "import pandas as pd\n"
   ]
  },
  {
   "cell_type": "code",
   "execution_count": 3,
   "id": "867948ce-2dc9-4309-9941-41fb84ee240c",
   "metadata": {},
   "outputs": [],
   "source": [
    "import nltk"
   ]
  },
  {
   "cell_type": "code",
   "execution_count": 55,
   "id": "13eb565d-16c7-4a14-965f-44ec76bac71e",
   "metadata": {},
   "outputs": [],
   "source": [
    "text=\"Hello! How are you? I hope you're doing well. Let's learn NLP together.\"\n"
   ]
  },
  {
   "cell_type": "markdown",
   "id": "e470547d-2d91-4283-b77d-6567088400e0",
   "metadata": {},
   "source": [
    "## tokenization"
   ]
  },
  {
   "cell_type": "code",
   "execution_count": 21,
   "id": "79bc98f4-92f2-4e33-85e3-c4422d4993ec",
   "metadata": {},
   "outputs": [],
   "source": [
    "from nltk.tokenize import sent_tokenize,word_tokenize"
   ]
  },
  {
   "cell_type": "code",
   "execution_count": 23,
   "id": "f6d310fd-eb39-4a79-9602-d3264a65f6ad",
   "metadata": {},
   "outputs": [
    {
     "data": {
      "text/plain": [
       "['Hello!',\n",
       " 'How are you?',\n",
       " \"I hope you're doing well.\",\n",
       " \"Let's learn NLP together.\"]"
      ]
     },
     "execution_count": 23,
     "metadata": {},
     "output_type": "execute_result"
    }
   ],
   "source": [
    "snt=sent_tokenize(text)\n",
    "snt"
   ]
  },
  {
   "cell_type": "code",
   "execution_count": 27,
   "id": "bb81531f-cdfc-4c09-b99d-c761e478a743",
   "metadata": {},
   "outputs": [
    {
     "data": {
      "text/plain": [
       "['Hello',\n",
       " '!',\n",
       " 'How',\n",
       " 'are',\n",
       " 'you',\n",
       " '?',\n",
       " 'I',\n",
       " 'hope',\n",
       " 'you',\n",
       " \"'re\",\n",
       " 'doing',\n",
       " 'well',\n",
       " '.',\n",
       " 'Let',\n",
       " \"'s\",\n",
       " 'learn',\n",
       " 'NLP',\n",
       " 'together',\n",
       " '.']"
      ]
     },
     "execution_count": 27,
     "metadata": {},
     "output_type": "execute_result"
    }
   ],
   "source": [
    "wrd=word_tokenize(text)\n",
    "wrd"
   ]
  },
  {
   "cell_type": "markdown",
   "id": "1cd4dfc1-a67e-4fb5-b117-76d2a871b6b6",
   "metadata": {},
   "source": [
    "## stopword removal"
   ]
  },
  {
   "cell_type": "code",
   "execution_count": 31,
   "id": "c6ffcca0-d63d-4569-9f10-f54170c4d1f4",
   "metadata": {},
   "outputs": [],
   "source": [
    "from nltk.corpus import stopwords"
   ]
  },
  {
   "cell_type": "code",
   "execution_count": 35,
   "id": "0078eeb3-9e7e-4d60-9ab7-021b6d667d83",
   "metadata": {},
   "outputs": [
    {
     "data": {
      "text/plain": [
       "['Hello',\n",
       " '!',\n",
       " 'How',\n",
       " 'are',\n",
       " 'you',\n",
       " '?',\n",
       " 'I',\n",
       " 'hope',\n",
       " 'you',\n",
       " \"'re\",\n",
       " 'doing',\n",
       " 'well',\n",
       " '.',\n",
       " 'Let',\n",
       " \"'s\",\n",
       " 'learn',\n",
       " 'NLP',\n",
       " 'together',\n",
       " '.']"
      ]
     },
     "execution_count": 35,
     "metadata": {},
     "output_type": "execute_result"
    }
   ],
   "source": [
    "tokens=nltk.word_tokenize(text)\n",
    "tokens"
   ]
  },
  {
   "cell_type": "code",
   "execution_count": 59,
   "id": "39e3e26a-c7b9-4005-bdd6-ebb51ef61f49",
   "metadata": {},
   "outputs": [
    {
     "data": {
      "text/plain": [
       "['Hello',\n",
       " '!',\n",
       " '?',\n",
       " 'hope',\n",
       " \"'re\",\n",
       " 'well',\n",
       " '.',\n",
       " 'Let',\n",
       " \"'s\",\n",
       " 'learn',\n",
       " 'NLP',\n",
       " 'together',\n",
       " '.']"
      ]
     },
     "execution_count": 59,
     "metadata": {},
     "output_type": "execute_result"
    }
   ],
   "source": [
    "# text=\"\"\n",
    "filtered_words=[i for i in tokens if i.lower() not in stopwords.words('English')]\n",
    "filtered_words"
   ]
  },
  {
   "cell_type": "markdown",
   "id": "b05f8ff9-3ce2-4ffe-9ca7-4b6d9aa67d69",
   "metadata": {},
   "source": [
    "## stemming"
   ]
  },
  {
   "cell_type": "code",
   "execution_count": 62,
   "id": "9cff2e4e-47fd-4791-9a3b-dc80019b4f98",
   "metadata": {},
   "outputs": [],
   "source": [
    "from nltk.stem import PorterStemmer"
   ]
  },
  {
   "cell_type": "code",
   "execution_count": 64,
   "id": "35b66451-86b0-4d4b-9885-efbe931542cc",
   "metadata": {},
   "outputs": [],
   "source": [
    "ps=PorterStemmer()"
   ]
  },
  {
   "cell_type": "code",
   "execution_count": 87,
   "id": "a49bd41b-b32e-4abb-ae2b-0c2714e8ab32",
   "metadata": {},
   "outputs": [],
   "source": [
    "words=['History','Easily','fairness','people']"
   ]
  },
  {
   "cell_type": "code",
   "execution_count": 68,
   "id": "1c221a8c-dd0c-40ee-89d2-bea56070eded",
   "metadata": {},
   "outputs": [
    {
     "data": {
      "text/plain": [
       "['histori', 'easili', 'fair', 'peopl']"
      ]
     },
     "execution_count": 68,
     "metadata": {},
     "output_type": "execute_result"
    }
   ],
   "source": [
    "stemmed_words=[ps.stem(w) for w in words]\n",
    "stemmed_words"
   ]
  },
  {
   "cell_type": "markdown",
   "id": "516f6b33-080e-451a-b328-b276e31e3b4c",
   "metadata": {},
   "source": [
    "## lemmetization"
   ]
  },
  {
   "cell_type": "code",
   "execution_count": 71,
   "id": "e43a9351-e885-4552-95a8-3cc08d9e15f9",
   "metadata": {},
   "outputs": [],
   "source": [
    "from nltk.stem import WordNetLemmatizer"
   ]
  },
  {
   "cell_type": "code",
   "execution_count": 75,
   "id": "0b5cf261-984a-4104-a20f-57cdc6dcdf4b",
   "metadata": {},
   "outputs": [],
   "source": [
    "lem=WordNetLemmatizer()"
   ]
  },
  {
   "cell_type": "code",
   "execution_count": 89,
   "id": "982cf89a-de6f-49f2-857f-740b69ab4b23",
   "metadata": {},
   "outputs": [
    {
     "data": {
      "text/plain": [
       "['History', 'Easily', 'fairness', 'people']"
      ]
     },
     "execution_count": 89,
     "metadata": {},
     "output_type": "execute_result"
    }
   ],
   "source": [
    "lem_words=[lem.lemmatize(w,pos='v') for w in words]\n",
    "lem_words"
   ]
  },
  {
   "cell_type": "code",
   "execution_count": 91,
   "id": "792d1657-bf11-4530-aa70-42208cb8616d",
   "metadata": {},
   "outputs": [
    {
     "data": {
      "text/plain": [
       "['run', 'history', 'people']"
      ]
     },
     "execution_count": 91,
     "metadata": {},
     "output_type": "execute_result"
    }
   ],
   "source": [
    "words=['running','history','people']\n",
    "lem_words=[lem.lemmatize(w, pos='v') for w in words]\n",
    "lem_words"
   ]
  },
  {
   "cell_type": "markdown",
   "id": "848c15c9-0a23-4cfe-970d-1238302581fc",
   "metadata": {},
   "source": [
    "## BOW"
   ]
  },
  {
   "cell_type": "code",
   "execution_count": 94,
   "id": "37fab948-87ae-4fab-b4ee-a08c7cf65ba4",
   "metadata": {},
   "outputs": [],
   "source": [
    "from sklearn.feature_extraction.text import CountVectorizer"
   ]
  },
  {
   "cell_type": "code",
   "execution_count": 96,
   "id": "971a3220-b0f4-4938-99cc-1f61a53df9bc",
   "metadata": {},
   "outputs": [],
   "source": [
    "corpus=['i hate this product','this product is bad']"
   ]
  },
  {
   "cell_type": "code",
   "execution_count": 98,
   "id": "b7cdd5a1-e7d2-4005-b245-c996e114aabf",
   "metadata": {},
   "outputs": [],
   "source": [
    "vct=CountVectorizer()"
   ]
  },
  {
   "cell_type": "code",
   "execution_count": 106,
   "id": "9ee6f560-4a5f-42c0-91b6-bb0ef6dec838",
   "metadata": {},
   "outputs": [
    {
     "data": {
      "text/plain": [
       "array(['bad', 'hate', 'is', 'product', 'this'], dtype=object)"
      ]
     },
     "execution_count": 106,
     "metadata": {},
     "output_type": "execute_result"
    }
   ],
   "source": [
    "x=vct.fit_transform(corpus)\n",
    "vct.get_feature_names_out()"
   ]
  },
  {
   "cell_type": "code",
   "execution_count": 108,
   "id": "f5b7f484-a832-4a25-9ea9-4ffe9a61365b",
   "metadata": {},
   "outputs": [
    {
     "data": {
      "text/plain": [
       "array([[0, 1, 0, 1, 1],\n",
       "       [1, 0, 1, 1, 1]], dtype=int64)"
      ]
     },
     "execution_count": 108,
     "metadata": {},
     "output_type": "execute_result"
    }
   ],
   "source": [
    "x.toarray()"
   ]
  },
  {
   "cell_type": "markdown",
   "id": "01b65bf4-3465-48c4-a78c-3de46348bbb4",
   "metadata": {},
   "source": [
    "## TFIDF"
   ]
  },
  {
   "cell_type": "code",
   "execution_count": 116,
   "id": "b54f780d-6de5-466b-9927-465c152fd3c6",
   "metadata": {},
   "outputs": [],
   "source": [
    "from sklearn.feature_extraction.text import TfidfVectorizer"
   ]
  },
  {
   "cell_type": "code",
   "execution_count": 144,
   "id": "728dfe54-1411-42cf-81b1-e0f0403457fc",
   "metadata": {},
   "outputs": [],
   "source": [
    "corpus=['the movie was fanstastic!','The acting was mediocre']\n",
    "# corpus=['i hate this product','this product is bad']"
   ]
  },
  {
   "cell_type": "code",
   "execution_count": 146,
   "id": "022b64dc-3934-412b-ac48-4556531d78c4",
   "metadata": {},
   "outputs": [],
   "source": [
    "tf=TfidfVectorizer()"
   ]
  },
  {
   "cell_type": "code",
   "execution_count": 148,
   "id": "937861d2-6dd6-47e3-9e0b-c78f61558d8d",
   "metadata": {},
   "outputs": [],
   "source": [
    "x=tf.fit_transform(corpus)"
   ]
  },
  {
   "cell_type": "code",
   "execution_count": 150,
   "id": "71ea3ca7-2bca-4703-a904-c33b567aabae",
   "metadata": {},
   "outputs": [
    {
     "data": {
      "text/plain": [
       "array(['acting', 'fanstastic', 'mediocre', 'movie', 'the', 'was'],\n",
       "      dtype=object)"
      ]
     },
     "execution_count": 150,
     "metadata": {},
     "output_type": "execute_result"
    }
   ],
   "source": [
    "tf.get_feature_names_out()"
   ]
  },
  {
   "cell_type": "code",
   "execution_count": 152,
   "id": "1789cdda-038c-45f9-82db-062ae866bc4e",
   "metadata": {},
   "outputs": [
    {
     "data": {
      "text/plain": [
       "array([[0.        , 0.57615236, 0.        , 0.57615236, 0.40993715,\n",
       "        0.40993715],\n",
       "       [0.57615236, 0.        , 0.57615236, 0.        , 0.40993715,\n",
       "        0.40993715]])"
      ]
     },
     "execution_count": 152,
     "metadata": {},
     "output_type": "execute_result"
    }
   ],
   "source": [
    "x.toarray()"
   ]
  },
  {
   "cell_type": "code",
   "execution_count": null,
   "id": "61269a53-cac8-446b-b639-78edc3c6f36f",
   "metadata": {},
   "outputs": [],
   "source": []
  }
 ],
 "metadata": {
  "kernelspec": {
   "display_name": "Python 3 (ipykernel)",
   "language": "python",
   "name": "python3"
  },
  "language_info": {
   "codemirror_mode": {
    "name": "ipython",
    "version": 3
   },
   "file_extension": ".py",
   "mimetype": "text/x-python",
   "name": "python",
   "nbconvert_exporter": "python",
   "pygments_lexer": "ipython3",
   "version": "3.12.4"
  }
 },
 "nbformat": 4,
 "nbformat_minor": 5
}
